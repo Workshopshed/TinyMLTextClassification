{
  "nbformat": 4,
  "nbformat_minor": 0,
  "metadata": {
    "colab": {
      "name": "key_classification_rnn.ipynb",
      "provenance": [],
      "private_outputs": true,
      "collapsed_sections": [
        "_2VQo4bajwUU"
      ],
      "toc_visible": true
    },
    "kernelspec": {
      "display_name": "Python 3",
      "name": "python3"
    }
  },
  "cells": [
    {
      "cell_type": "markdown",
      "metadata": {
        "colab_type": "text",
        "id": "9TnJztDZGw-n"
      },
      "source": [
        "# Key classification with an RNN for Tensor Flow Lite"
      ]
    },
    {
      "cell_type": "markdown",
      "metadata": {
        "colab_type": "text",
        "id": "lUWearf0Gw-p"
      },
      "source": [
        "Classify USB data which comes in packets of 8 bytes representing shift and key presses."
      ]
    },
    {
      "cell_type": "markdown",
      "metadata": {
        "colab_type": "text",
        "id": "_2VQo4bajwUU"
      },
      "source": [
        "## Install"
      ]
    },
    {
      "cell_type": "code",
      "metadata": {
        "colab_type": "code",
        "id": "z682XYsrjkY9",
        "colab": {}
      },
      "source": [
        "!pip install tensorflow\n",
        "!pip install numpy"
      ],
      "execution_count": 0,
      "outputs": []
    },
    {
      "cell_type": "markdown",
      "metadata": {
        "colab_type": "text",
        "id": "pRmMubr0jrE2"
      },
      "source": [
        "## Setup input pipeline\n",
        "\n",
        "Data for the pipeline needs to be in the form of a numpy array so we wrap our simple array in the call to np.array\n",
        "\n",
        "Todo: Generate this data some how."
      ]
    },
    {
      "cell_type": "code",
      "metadata": {
        "id": "2p9BmmG27to6",
        "colab_type": "code",
        "colab": {}
      },
      "source": [
        "import tensorflow as tf\n",
        "import numpy as np"
      ],
      "execution_count": 0,
      "outputs": []
    },
    {
      "cell_type": "code",
      "metadata": {
        "colab_type": "code",
        "id": "SHRwRoP2nVHX",
        "colab": {}
      },
      "source": [
        "dataset = np.array([ [2,0,4,0,0,0,0,0],[2,0,4,0,0,0,0,0],[0,0,5,0,0,0,0,0]])  # The letter A with a shift\n",
        "resultset = np.array([[1,0],[1,0],[0,1]])\n",
        "\n",
        "for ex in dataset:\n",
        "  print(ex)"
      ],
      "execution_count": 0,
      "outputs": []
    },
    {
      "cell_type": "markdown",
      "metadata": {
        "colab_type": "text",
        "id": "GlYWqhTVlUyQ"
      },
      "source": [
        "## Prepare the data for training\n",
        "\n",
        "Split the data 80:20 so we've got some data to validate our model against."
      ]
    },
    {
      "cell_type": "code",
      "metadata": {
        "id": "FiKPTKQRtH7e",
        "colab_type": "code",
        "colab": {}
      },
      "source": [
        "from sklearn.model_selection import train_test_split\n",
        "\n",
        "train_dataset, test_dataset, train_results, test_results = train_test_split(dataset, resultset, test_size = 0.2)"
      ],
      "execution_count": 0,
      "outputs": []
    },
    {
      "cell_type": "markdown",
      "metadata": {
        "id": "w9L8OQ5HVpwQ",
        "colab_type": "text"
      },
      "source": [
        "Lets take a look at one of these to see how it now looks. The shape of the model is important as it needs to mirror the input shape of the first layer of the model."
      ]
    },
    {
      "cell_type": "code",
      "metadata": {
        "id": "4vvru8bMikpz",
        "colab_type": "code",
        "colab": {}
      },
      "source": [
        "print(\"Batch shape:\", train_dataset.shape)\n",
        "print(\"label shape:\", train_results.shape)"
      ],
      "execution_count": 0,
      "outputs": []
    },
    {
      "cell_type": "markdown",
      "metadata": {
        "colab_type": "text",
        "id": "bjUqGVBxGw-t"
      },
      "source": [
        "## Create the model"
      ]
    },
    {
      "cell_type": "markdown",
      "metadata": {
        "colab_type": "text",
        "id": "bgs6nnSTGw-t"
      },
      "source": [
        "Build a machine learning model using the Keras API which simplifies this rocess.\n",
        "\n",
        "The layers represent nodes in a recurrent neural network (RNN). This processes sequence input by iterating through the elements. RNNs pass the outputs from one timestep to their input—and then to the next.\n",
        "\n",
        "It is important to include the input_shape parameter so that the convertion process can work correctly.\n",
        "\n",
        "The output has 2 nodes representing a Happy Comment and an Angry Comment. If both are unset it is a neutral comment and both set is an ambigious comment."
      ]
    },
    {
      "cell_type": "code",
      "metadata": {
        "colab_type": "code",
        "id": "LwfoBkmRYcP3",
        "colab": {}
      },
      "source": [
        "model = tf.keras.Sequential([\n",
        "  tf.keras.layers.Dense(16, activation='relu', input_shape=(8,)),\n",
        "  tf.keras.layers.Dense(8)\n",
        "  tf.keras.layers.Dense(2)\n",
        "  ])\n",
        "\n",
        "model.summary()"
      ],
      "execution_count": 0,
      "outputs": []
    },
    {
      "cell_type": "markdown",
      "metadata": {
        "id": "v-YfTajylxGY",
        "colab_type": "text"
      },
      "source": [
        "The model needs to be compiled before use. The several named defaults are used here. There are many choices for the optimiser and this will affect both the training duration and the size of the end mode."
      ]
    },
    {
      "cell_type": "code",
      "metadata": {
        "colab_type": "code",
        "id": "kj2xei41YZjC",
        "colab": {}
      },
      "source": [
        "model.compile (optimizer='rmsprop',\n",
        "              loss='mse',\n",
        "              metrics=['accuracy'])\n"
      ],
      "execution_count": 0,
      "outputs": []
    },
    {
      "cell_type": "markdown",
      "metadata": {
        "colab_type": "text",
        "id": "zIwH3nto596k"
      },
      "source": [
        "## Train the model"
      ]
    },
    {
      "cell_type": "markdown",
      "metadata": {
        "id": "cI5shHP1xfxA",
        "colab_type": "text"
      },
      "source": [
        "The model is trained on a set of known data and then validated against a typically smaller set of known data."
      ]
    },
    {
      "cell_type": "code",
      "metadata": {
        "colab_type": "code",
        "id": "hw86wWS4YgR2",
        "colab": {}
      },
      "source": [
        "history = model.fit(train_dataset,train_results, epochs=1,\n",
        "                    validation_data=(test_dataset,test_results), \n",
        "                    validation_steps=1)"
      ],
      "execution_count": 0,
      "outputs": []
    },
    {
      "cell_type": "code",
      "metadata": {
        "colab_type": "code",
        "id": "BaNbXi43YgUT",
        "colab": {}
      },
      "source": [
        "test_loss, test_acc = model.evaluate(test_dataset)\n",
        "\n",
        "print('Test Loss: {}'.format(test_loss))\n",
        "print('Test Accuracy: {}'.format(test_acc))"
      ],
      "execution_count": 0,
      "outputs": []
    },
    {
      "cell_type": "code",
      "metadata": {
        "id": "h0W_jiReyE0s",
        "colab_type": "code",
        "colab": {}
      },
      "source": [
        "# Save the model\n",
        "model.save(\"keyclassification_model\") "
      ],
      "execution_count": 0,
      "outputs": []
    },
    {
      "cell_type": "markdown",
      "metadata": {
        "id": "e0ARZI6Ks_au",
        "colab_type": "text"
      },
      "source": [
        "## Test the model"
      ]
    },
    {
      "cell_type": "code",
      "metadata": {
        "colab_type": "code",
        "id": "kFh4xLARucTy",
        "colab": {}
      },
      "source": [
        "# Do some prediction based on the inputs\n",
        "\n",
        "res = model.predict(np.array([[2, 0, 4, 0, 0, 0, 0, 0],\n",
        "                              [0, 0, 0, 0, 0, 0, 0, 0],\n",
        "                              [2, 0, 5, 6, 0, 0, 0, 0],\n",
        "                              [0,0,5,0,0,0,0,0]]))\n",
        "print(res)\n"
      ],
      "execution_count": 0,
      "outputs": []
    },
    {
      "cell_type": "markdown",
      "metadata": {
        "id": "yROjuhJYsxJw",
        "colab_type": "text"
      },
      "source": [
        "# Export the model"
      ]
    },
    {
      "cell_type": "markdown",
      "metadata": {
        "id": "yQoXPUlhDbT3",
        "colab_type": "text"
      },
      "source": [
        "Convert the model to TFLite then format as a big C array.\n",
        "\n",
        "https://github.com/eloquentarduino/tinymlgen"
      ]
    },
    {
      "cell_type": "code",
      "metadata": {
        "id": "nbyfLSen6S8A",
        "colab_type": "code",
        "colab": {}
      },
      "source": [
        "!pip install tinymlgen"
      ],
      "execution_count": 0,
      "outputs": []
    },
    {
      "cell_type": "code",
      "metadata": {
        "id": "Oq-A2h4mD0jM",
        "colab_type": "code",
        "colab": {}
      },
      "source": [
        "from tinymlgen import port\n",
        "\n",
        "c_code = port(model,optimize=True,pretty_print=True)\n",
        "\n",
        "print(len(c_code))"
      ],
      "execution_count": 0,
      "outputs": []
    },
    {
      "cell_type": "markdown",
      "metadata": {
        "id": "qIRo66RoTc-1",
        "colab_type": "text"
      },
      "source": [
        "File size needs to be small enough both to fit into the flash memory but also to run in RAM. So look for sizes in the low KBs. Once we've converted our model we can save it out to disk."
      ]
    },
    {
      "cell_type": "code",
      "metadata": {
        "id": "UumRfLYuFBxe",
        "colab_type": "code",
        "colab": {}
      },
      "source": [
        "c_file = open(r\"text_model.h\",\"w+\")\n",
        "\n",
        "n = c_file.write(c_code)\n",
        "c_file.close()"
      ],
      "execution_count": 0,
      "outputs": []
    },
    {
      "cell_type": "markdown",
      "metadata": {
        "id": "v8NgZhT8EaSc",
        "colab_type": "text"
      },
      "source": [
        "# Testing the TFLite model"
      ]
    },
    {
      "cell_type": "markdown",
      "metadata": {
        "id": "K2EKHsYKEm-w",
        "colab_type": "text"
      },
      "source": [
        "The easiest library to get TFLite working on your Arduino is [EloquentTinyML](https://github.com/eloquentarduino/EloquentTinyML)\n",
        "\n",
        "Copy the header file into your arduino project and include it as follows. Note that to work correctly the variable needs to be declared before the setup and main functions.\n",
        "\n",
        "```\n",
        "#undef min //Needed for TensorFlow lite to correctly redeclare the min and max macros.\n",
        "#undef max\n",
        "#include <EloquentTinyML.h>\n",
        "\n",
        "#include \"text_model.h\"\n",
        "\n",
        "#define NUMBER_OF_INPUTS 8\n",
        "#define NUMBER_OF_OUTPUTS 2\n",
        "// you may need to tweek this value: it's a trial and error process\n",
        "#define TENSOR_ARENA_SIZE 2*1024\n",
        "\n",
        "Eloquent::TinyML::TfLite<NUMBER_OF_INPUTS, NUMBER_OF_OUTPUTS, TENSOR_ARENA_SIZE> ml((unsigned char*)model_data);\n",
        "```\n",
        "\n",
        "\n"
      ]
    }
  ]
}